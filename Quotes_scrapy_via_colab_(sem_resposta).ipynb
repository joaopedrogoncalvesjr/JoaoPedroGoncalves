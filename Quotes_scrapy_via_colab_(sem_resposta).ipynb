{
  "nbformat": 4,
  "nbformat_minor": 0,
  "metadata": {
    "colab": {
      "provenance": [],
      "include_colab_link": true
    },
    "kernelspec": {
      "name": "python3",
      "display_name": "Python 3"
    }
  },
  "cells": [
    {
      "cell_type": "markdown",
      "metadata": {
        "id": "view-in-github",
        "colab_type": "text"
      },
      "source": [
        "<a href=\"https://colab.research.google.com/github/joaopedrogoncalvesjr/JoaoPedroGoncalves/blob/main/Quotes_scrapy_via_colab_(sem_resposta).ipynb\" target=\"_parent\"><img src=\"https://colab.research.google.com/assets/colab-badge.svg\" alt=\"Open In Colab\"/></a>"
      ]
    },
    {
      "cell_type": "markdown",
      "metadata": {
        "id": "BqtIy3rbs-SP"
      },
      "source": [
        "# Scrapy\n",
        "\n"
      ]
    },
    {
      "cell_type": "code",
      "metadata": {
        "id": "Kkm8SKKk9IJ4"
      },
      "source": [
        "# Instalando bibliotecas\n",
        "!pip install scrapy\n",
        "!pip install crochet"
      ],
      "execution_count": null,
      "outputs": []
    },
    {
      "cell_type": "code",
      "source": [
        "# text cleaning\n",
        "import re\n",
        "import scrapy\n",
        "import logging\n",
        "from scrapy.crawler import CrawlerRunner\n",
        "# Reactor restart\n",
        "from crochet import setup, wait_for\n",
        "setup()"
      ],
      "metadata": {
        "id": "R62p-ZvlWiny"
      },
      "execution_count": null,
      "outputs": []
    },
    {
      "cell_type": "code",
      "metadata": {
        "id": "fB9jntWrtvE5"
      },
      "source": [
        "class QuotesSpider(scrapy.Spider):\n",
        "    name = 'quotes_spider'\n",
        "    allowed_domains = ['quotes.toscrape.com']\n",
        "    start_urls = ['http://quotes.toscrape.com/']\n",
        "    \n",
        "    custom_settings = {\n",
        "        'FEED_FORMAT':'csv',                            # Used for pipeline\n",
        "        'FEED_URI': 'quotes.csv',                       # Used for pipeline     \n",
        "        'USER_AGENT': 'Mozilla/5.0 (Windows NT 10.0; Win64; x64) AppleWebKit/537.36 (KHTML, like Gecko) Chrome/102.0.0.0 Safari/537.36'\n",
        "    }\n",
        "\n",
        "    def parse(self, response):\n"
      ],
      "execution_count": null,
      "outputs": []
    },
    {
      "cell_type": "markdown",
      "source": [
        "Inicia o crawler"
      ],
      "metadata": {
        "id": "nRkLALCtPOHF"
      }
    },
    {
      "cell_type": "code",
      "metadata": {
        "id": "zyL6Y9jMwv4x",
        "outputId": "ba6850eb-f084-444e-c2e1-3cb24b7d5984",
        "colab": {
          "base_uri": "https://localhost:8080/"
        }
      },
      "source": [
        "crawler = CrawlerRunner()\n",
        "crawler.crawl(QuotesSpider)"
      ],
      "execution_count": null,
      "outputs": [
        {
          "output_type": "stream",
          "name": "stderr",
          "text": [
            "WARNING:twisted:/usr/local/lib/python3.7/dist-packages/scrapy/extensions/feedexport.py:289: scrapy.exceptions.ScrapyDeprecationWarning: The `FEED_URI` and `FEED_FORMAT` settings have been deprecated in favor of the `FEEDS` setting. Please see the `FEEDS` setting docs for more details\n"
          ]
        },
        {
          "output_type": "execute_result",
          "data": {
            "text/plain": [
              "<Deferred at 0x7f38f71e0690>"
            ]
          },
          "metadata": {},
          "execution_count": 4
        }
      ]
    }
  ]
}